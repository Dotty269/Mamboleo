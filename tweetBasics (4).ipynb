{
 "cells": [
  {
   "cell_type": "code",
   "execution_count": 1,
   "id": "52bccef7",
   "metadata": {},
   "outputs": [],
   "source": [
    "import sys\n",
    "import re"
   ]
  },
  {
   "cell_type": "code",
   "execution_count": 2,
   "id": "e0c41819",
   "metadata": {},
   "outputs": [],
   "source": [
    "tweet = 'Pompeo @AIOtsider: happy to learn!!! 😂😂😂 https://AIOutsider.com #NLP'"
   ]
  },
  {
   "cell_type": "code",
   "execution_count": 10,
   "id": "704143b5",
   "metadata": {},
   "outputs": [],
   "source": [
    "def  repalce_retweet(tweet, default_replace=\"\"):\n",
    "    tweet = re.sub('Pompeo\\s+',default_replace, tweet)\n",
    "    return tweet"
   ]
  },
  {
   "cell_type": "code",
   "execution_count": 11,
   "id": "93ba704a",
   "metadata": {},
   "outputs": [
    {
     "name": "stdout",
     "output_type": "stream",
     "text": [
      "Processed tweet:Ronaldo@AIOtsider: happy to learn!!! 😂😂😂 https://AIOutsider.com #NLP\n"
     ]
    }
   ],
   "source": [
    "print(\"Processed tweet:{}\".format(repalce_retweet(tweet)))"
   ]
  },
  {
   "cell_type": "code",
   "execution_count": 12,
   "id": "eaa3998b",
   "metadata": {},
   "outputs": [],
   "source": [
    "def replace_user(tweet,default_replace=\"Wakadinali\"):\n",
    "    tweet = re.sub('@\\w+',default_replace, tweet)\n",
    "    return tweet"
   ]
  },
  {
   "cell_type": "code",
   "execution_count": 13,
   "id": "1795a22e",
   "metadata": {},
   "outputs": [
    {
     "name": "stdout",
     "output_type": "stream",
     "text": [
      "Processed tweet:Pompeo Wakadinali: happy to learn!!! 😂😂😂 https://AIOutsider.com #NLP\n"
     ]
    }
   ],
   "source": [
    "print(\"Processed tweet:{}\".format(replace_user(tweet)))"
   ]
  },
  {
   "cell_type": "code",
   "execution_count": 18,
   "id": "de00490a",
   "metadata": {},
   "outputs": [],
   "source": [
    "import emoji"
   ]
  },
  {
   "cell_type": "code",
   "execution_count": 22,
   "id": "da2b7791",
   "metadata": {},
   "outputs": [],
   "source": [
    "def remove_emoji(tweet):\n",
    "    tweet = emoji.demojize(tweet)\n",
    "    return tweet"
   ]
  },
  {
   "cell_type": "code",
   "execution_count": 23,
   "id": "c359fd7a",
   "metadata": {},
   "outputs": [
    {
     "name": "stdout",
     "output_type": "stream",
     "text": [
      "Processed tweet:Pompeo @AIOtsider: happy to learn!!! :face_with_tears_of_joy::face_with_tears_of_joy::face_with_tears_of_joy: https://AIOutsider.com #NLP\n"
     ]
    }
   ],
   "source": [
    "print(\"Processed tweet:{}\".format(remove_emoji(tweet)))"
   ]
  },
  {
   "cell_type": "code",
   "execution_count": 25,
   "id": "7d48413b",
   "metadata": {},
   "outputs": [],
   "source": [
    "def repalce_url(tweet, default_replace=''):\n",
    "    tweet = re.sub('(http|https):\\/\\/\\S+',default_replace,tweet)\n",
    "    return tweet"
   ]
  },
  {
   "cell_type": "code",
   "execution_count": 26,
   "id": "e0d9cf7f",
   "metadata": {},
   "outputs": [
    {
     "name": "stdout",
     "output_type": "stream",
     "text": [
      "Processed tweet:Pompeo @AIOtsider: happy to learn!!! 😂😂😂  #NLP\n"
     ]
    }
   ],
   "source": [
    "print(\"Processed tweet:{}\".format(repalce_url(tweet)))"
   ]
  },
  {
   "cell_type": "code",
   "execution_count": null,
   "id": "fc3b64a1",
   "metadata": {},
   "outputs": [],
   "source": [
    "def replace_hastag():\n",
    "    \n",
    "\n",
    "    \n",
    "    \n",
    "    \n",
    "    #Assignment"
   ]
  }
 ],
 "metadata": {
  "kernelspec": {
   "display_name": "Python 3 (ipykernel)",
   "language": "python",
   "name": "python3"
  },
  "language_info": {
   "codemirror_mode": {
    "name": "ipython",
    "version": 3
   },
   "file_extension": ".py",
   "mimetype": "text/x-python",
   "name": "python",
   "nbconvert_exporter": "python",
   "pygments_lexer": "ipython3",
   "version": "3.9.12"
  }
 },
 "nbformat": 4,
 "nbformat_minor": 5
}
